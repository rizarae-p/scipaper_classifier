{
 "cells": [
  {
   "cell_type": "code",
   "execution_count": 1,
   "metadata": {},
   "outputs": [],
   "source": [
    "import parse \n",
    "import taxonomic_classification\n",
    "\n",
    "import pandas as pd\n",
    "from scipy.cluster.hierarchy import dendrogram, linkage\n",
    "import matplotlib.pyplot as plt\n",
    "from Bio import Entrez"
   ]
  },
  {
   "cell_type": "code",
   "execution_count": 2,
   "metadata": {},
   "outputs": [
    {
     "name": "stdout",
     "output_type": "stream",
     "text": [
      "Total number of entries in the RIS file: 96\n"
     ]
    }
   ],
   "source": [
    "df = parse.count_keywords(file_name='madlc_citations.ris')"
   ]
  },
  {
   "cell_type": "code",
   "execution_count": 3,
   "metadata": {},
   "outputs": [],
   "source": [
    "#from the dictionary, get animal list, without counts, only animal name/label.\n",
    "animal_list = list(df.keys()) "
   ]
  },
  {
   "cell_type": "code",
   "execution_count": 4,
   "metadata": {},
   "outputs": [
    {
     "name": "stderr",
     "output_type": "stream",
     "text": [
      "/Users/annateruel/miniconda3/envs/dlc_analysis/lib/python3.10/site-packages/Bio/Entrez/__init__.py:694: UserWarning: \n",
      "            Email address is not specified.\n",
      "\n",
      "            To make use of NCBI's E-utilities, NCBI requires you to specify your\n",
      "            email address with each request.  As an example, if your email address\n",
      "            is A.N.Other@example.com, you can specify it as follows:\n",
      "               from Bio import Entrez\n",
      "               Entrez.email = 'A.N.Other@example.com'\n",
      "            In case of excessive usage of the E-utilities, NCBI will attempt to contact\n",
      "            a user at the email address provided before blocking access to the\n",
      "            E-utilities.\n",
      "  warnings.warn(\n"
     ]
    }
   ],
   "source": [
    "scientific_names = taxonomic_classification.common_to_scientific_names(animal_list)"
   ]
  },
  {
   "cell_type": "code",
   "execution_count": 5,
   "metadata": {},
   "outputs": [],
   "source": [
    "filtered_list = [item for item in scientific_names if item is not None]\n"
   ]
  },
  {
   "cell_type": "code",
   "execution_count": 6,
   "metadata": {},
   "outputs": [],
   "source": [
    "classified_data = taxonomic_classification.classify_animal(animal_list=filtered_list, api_key='551e53dbe190f57bbd7cf1784ecd3e72b509')"
   ]
  },
  {
   "cell_type": "code",
   "execution_count": 11,
   "metadata": {},
   "outputs": [
    {
     "data": {
      "text/plain": [
       "0        Mammals\n",
       "1        Rodents\n",
       "2        Rodents\n",
       "3    Vertebrates\n",
       "4       Primates\n",
       "5        Mammals\n",
       "Name: Division, dtype: object"
      ]
     },
     "execution_count": 11,
     "metadata": {},
     "output_type": "execute_result"
    }
   ],
   "source": [
    "classified_data['Division']\n",
    "#classified_data['Lineage']"
   ]
  },
  {
   "cell_type": "code",
   "execution_count": 27,
   "metadata": {},
   "outputs": [],
   "source": [
    "import pandas as pd\n",
    "import requests\n",
    "\n",
    "def classify(animal_list: list, api_key: str):\n",
    "    itis_url = \"https://www.itis.gov/ITISWebService/jsonservice/searchForAnyMatch?srchKey=\"\n",
    "\n",
    "    categorized_results = []\n",
    "\n",
    "    for animal in animal_list:\n",
    "        try:\n",
    "            response = requests.get(f\"{itis_url}{animal}\")\n",
    "            itis_data = response.json()\n",
    "\n",
    "            if \"commonNames\" in itis_data:\n",
    "                common_names = itis_data[\"commonNames\"]\n",
    "                if common_names:\n",
    "                    common_name = common_names[0].get(\"name\", \"\")\n",
    "                    result = {\"ScientificName\": animal, \"Category\": common_name}\n",
    "                    categorized_results.append(result)\n",
    "            else:\n",
    "                print(f\"No commonNames field in response for '{animal}'\")\n",
    "        except Exception as e:\n",
    "            print(f\"An error occurred for '{animal}': {e}\")\n",
    "\n",
    "    df = pd.DataFrame(categorized_results)\n",
    "    return df.dropna()\n"
   ]
  },
  {
   "cell_type": "code",
   "execution_count": 29,
   "metadata": {},
   "outputs": [
    {
     "name": "stdout",
     "output_type": "stream",
     "text": [
      "No commonNames field in response for 'dog'\n",
      "No commonNames field in response for 'mouse'\n",
      "No commonNames field in response for 'rodent'\n",
      "No commonNames field in response for 'insect'\n",
      "No commonNames field in response for 'fish'\n",
      "No commonNames field in response for 'monkey'\n",
      "No commonNames field in response for 'zebra'\n",
      "No commonNames field in response for 'crab'\n",
      "No commonNames field in response for 'primate'\n",
      "No commonNames field in response for 'ant'\n",
      "No commonNames field in response for 'jellyfish'\n",
      "No commonNames field in response for 'antelope'\n",
      "No commonNames field in response for 'termite'\n",
      "No commonNames field in response for 'sheep'\n"
     ]
    }
   ],
   "source": [
    "d = classify(animal_list=animal_list, api_key='551e53dbe190f57bbd7cf1784ecd3e72b509')"
   ]
  }
 ],
 "metadata": {
  "kernelspec": {
   "display_name": "dlc_analysis",
   "language": "python",
   "name": "python3"
  },
  "language_info": {
   "codemirror_mode": {
    "name": "ipython",
    "version": 3
   },
   "file_extension": ".py",
   "mimetype": "text/x-python",
   "name": "python",
   "nbconvert_exporter": "python",
   "pygments_lexer": "ipython3",
   "version": "3.10.9"
  },
  "orig_nbformat": 4
 },
 "nbformat": 4,
 "nbformat_minor": 2
}
