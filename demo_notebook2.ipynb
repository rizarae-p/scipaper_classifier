{
 "cells": [
  {
   "cell_type": "code",
   "execution_count": 3,
   "metadata": {},
   "outputs": [],
   "source": [
    "from reading_pdf import analyze_papers"
   ]
  },
  {
   "cell_type": "code",
   "execution_count": 7,
   "metadata": {},
   "outputs": [
    {
     "name": "stdout",
     "output_type": "stream",
     "text": [
      "Number of papers mentioning DeepLabCut in the Methodology, Materials and Methods, or Results sections: 1\n",
      "\n",
      "Files citing DeepLabCut:\n",
      "pdfs/ENEURO.0415-20.2021.full.pdf\n"
     ]
    }
   ],
   "source": [
    "dir = 'pdfs/'\n",
    "papers_with_deeplabcut_count, _, papers_with_deeplabcut_dict, _ = analyze_papers(dir)\n",
    "\n",
    "print(f\"Number of papers mentioning DeepLabCut in the Methodology, Materials and Methods, or Results sections: {papers_with_deeplabcut_count}\")\n",
    "print(\"\\nFiles citing DeepLabCut:\")\n",
    "for filename, file_path in papers_with_deeplabcut_dict.items():\n",
    "    print(f\"{file_path}\")"
   ]
  },
  {
   "cell_type": "code",
   "execution_count": 8,
   "metadata": {},
   "outputs": [
    {
     "name": "stdout",
     "output_type": "stream",
     "text": [
      "Number of papers not mentioning DeepLabCut: 1\n",
      "\n",
      "Files not citing DeepLabCut:\n",
      "pdfs/1512.03385.pdf\n"
     ]
    }
   ],
   "source": [
    "_, papers_without_deeplabcut_count, _, papers_without_deeplabcut_dict = analyze_papers(dir)\n",
    "\n",
    "print(f\"Number of papers not mentioning DeepLabCut: {papers_without_deeplabcut_count}\")\n",
    "print(\"\\nFiles not citing DeepLabCut:\")\n",
    "for filename, file_path in papers_without_deeplabcut_dict.items():\n",
    "    print(f\"{file_path}\")"
   ]
  },
  {
   "cell_type": "code",
   "execution_count": null,
   "metadata": {},
   "outputs": [],
   "source": []
  },
  {
   "cell_type": "code",
   "execution_count": null,
   "metadata": {},
   "outputs": [],
   "source": []
  }
 ],
 "metadata": {
  "kernelspec": {
   "display_name": "scipaper",
   "language": "python",
   "name": "scipaper"
  },
  "language_info": {
   "codemirror_mode": {
    "name": "ipython",
    "version": 3
   },
   "file_extension": ".py",
   "mimetype": "text/x-python",
   "name": "python",
   "nbconvert_exporter": "python",
   "pygments_lexer": "ipython3",
   "version": "3.12.1"
  }
 },
 "nbformat": 4,
 "nbformat_minor": 4
}
