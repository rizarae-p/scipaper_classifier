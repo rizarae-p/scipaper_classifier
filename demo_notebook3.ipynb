{
 "cells": [
  {
   "cell_type": "code",
   "execution_count": 1,
   "metadata": {},
   "outputs": [
    {
     "name": "stdout",
     "output_type": "stream",
     "text": [
      "No topword A Novel Tool for Quantitative Assessment of Lower Limb Proprioception Demonstration with Young Adults, Elderly and Stroke Survivors.pdf\n",
      "No topword Herlina-THE EFFECT OF ENTREPRENEURIAL LEADERSHIP ON ORGANIZATIONAL PERFORMANCE- LITERATURE REVIEW-2021-MARGINAL - JOURNAL OF MANAGEMENT, ACCOUNTING, GENERAL FINANCE AND INTERNATIONAL ECONOMIC ISSUES.pdf\n",
      "No topword Atanas-Brain-wide representations of behavior spanning multiple timescales and states in C. elegans-2022-bioRxiv.pdf\n",
      "No topword 征輝-マーカベースおよびマーカレスモーションキャプチャを用いたサイドボックスジャンプのキネマティックデータの比較-2023-スキー研究.pdf\n",
      "No topword Brann-Finding the Brain in the Nose-2020-Annual Review of Neuroscience.pdf\n",
      "No topword Haraguchi-High Accuracy and Wide Range Recognition of Micro AR Markers with Dynamic Camera Parameter Control-2023-Preprints.pdf\n",
      "No topword León-Análisis experimental del comportamiento asistido por inteligencia artificial- Hacia un cambio de paradigma multidisciplinar-2022-Acta Colombiana de Psicología.pdf\n",
      "No topword RECORD A high-throughput system for complex naturalistic decision-making in rodents.pdf\n",
      "No topword He-Few-shot Geometry-Aware Keypoint Localization-2023-arXiv.pdf\n",
      "No topword vu2023vu.pdf\n",
      "No topword Nakano-Genetic screens identified dual roles of microtubule-associated serine threonine kinase and CREB within a single thermosensory neuron in the regulation of Caenorhabditis elegans thermotaxis behavior-2022-G3.pdf\n",
      "No topword Ramborger-High quality, high throughput, and low-cost simultaneous video recording of 60 animals in operant chambers using PiRATeMC-2023-bioRxiv.pdf\n",
      "No topword Kurdthongmee-A YOLO Detector Providing Fast and Accurate Pupil Center Estimation using Regions Surrounding a Pupil-2022-Emerging Science Journal.pdf\n",
      "No topword Chiu-Markerless Suture Needle 6D Pose Tracking with Robust Uncertainty Estimation for Autonomous Minimally Invasive Robotic Surgery-2022-2022 IEEE-RSJ International Conference on Intelligent Robots and Systems (IROS).pdf\n",
      "No topword 信明-動物園の定点記録映像に自動付与した観察の手がかり情報の市民による遠隔動物観察における効果の検証-2023-ヒューマンインタフェース学会論文誌.pdf\n",
      "No topword Schlaeppi-Meeting in the Middle- Towards Successful Multidisciplinary Bioimage Analysis Collaboration-2022-Frontiers in Bioinformatics.pdf\n",
      "No topword Tang-Differences between lower extremity joint running kinetics captured by marker-based and markerless systems were speed dependent-2024-Journal of Sport and Health Science.pdf\n",
      "No topword Liao-Pressure vessel-oriented visual inspection method based on deep learning-2022-PLoS ONE.pdf\n",
      "{'prairie voles': 1, 'human': 230, 'mice': 417, 'primate': 8, 'dog': 7, 'cheetah': 2, 'mouse': 131, 'cats': 4, 'rats': 83, 'drosophila': 35, 'worm': 6, 'kinematics': 55, 'spider': 2, 'bear': 3, 'pigs': 8, 'fish': 48, 'fly': 7, 'baboons': 1, 'horses': 5, 'patients': 24, 'humans': 16, 'moths': 2, 'tree': 10, 'rat': 29, 'cat': 3, 'ant': 10, 'bat': 2, 'crickets': 2, 'primates': 9, 'cockroach': 3, False: 18, 'bees': 4, 'lion': 1, 'monkeys': 11, 'bee': 5, 'flies': 16, 'cricket': 2, 'plankton': 1, 'bird': 5, 'beetle': 3, 'patient': 8, 'crab': 3, 'bats': 5, 'macaque': 5, 'cow': 4, 'caterpillars': 2, 'cuttlefish': 1, 'wasp': 1, 'person': 6, 'horse': 3, 'sea star': 2, 'rabbit': 1, 'octopus': 3, 'goat': 1, 'squirrel': 1, 'dogs': 6, 'lizards': 4, 'birds': 10, 'zebra': 2, 'duck': 2, 'chickens': 1, 'rabbits': 1, 'snake': 1, 'flower': 2, 'macaques': 7, 'cows': 1, 'plant': 4, 'ants': 6, 'dolphin': 1, 'mosquito': 3, 'chicken': 5, 'plants': 1, 'persons': 1, 'worms': 3, 'spiders': 1, 'pig': 3, 'sheep': 1, 'viper': 1, 'dolphins': 1, 'gecko': 2, 'elephant': 1, 'trees': 2, 'hedgehog': 1, 'fireflies': 1, 'snail': 1, 'slugs': 1, 'fishes': 2, 'jellyfish': 1, 'monkey': 2, 'chimpanzees': 1, 'wolf': 1, 'cheetahs': 1, 'pandas': 1, 'hamster': 1, 'turkey': 1, 'frog': 1}\n",
      "Counted papers 1364\n",
      "Skipped papers 18\n"
     ]
    }
   ],
   "source": [
    "from scipaper_classifier import analyze_papers\n",
    "\n",
    "\n",
    "dir = 'papers_full/'\n",
    "total_counter,tot,skipped = analyze_papers(dir)\n",
    "\n",
    "print(total_counter)\n",
    "print(\"Counted papers\", tot)\n",
    "print(\"Skipped papers\", skipped)"
   ]
  },
  {
   "cell_type": "code",
   "execution_count": null,
   "metadata": {},
   "outputs": [],
   "source": [
    "total_counter"
   ]
  },
  {
   "cell_type": "markdown",
   "metadata": {},
   "source": [
    "## PLOT RESULTS"
   ]
  },
  {
   "cell_type": "markdown",
   "metadata": {},
   "source": [
    "### Focus on Animals"
   ]
  },
  {
   "cell_type": "code",
   "execution_count": null,
   "metadata": {},
   "outputs": [],
   "source": [
    "import pandas as pd\n",
    "import matplotlib.pyplot as plt\n",
    "\n",
    "animals_df = pd.DataFrame.from_dict(total_counter, orient='index', columns=['count'])\n",
    "animals_df = animals_df.sort_values(by='count', ascending=False)  # sort by count in descending order \n",
    "animals_df.plot(kind=\"barh\", y='count', figsize=(20, 6))  # horizontal bar chart\n",
    "plt.title(\"Animal Count Distribution\")\n",
    "plt.xlabel(\"Count\")\n",
    "plt.ylabel(\"Animal\")\n",
    "plt.grid(axis='x', linestyle='--', alpha=0.6)\n",
    "plt.show()\n"
   ]
  }
 ],
 "metadata": {
  "kernelspec": {
   "display_name": "scipaper",
   "language": "python",
   "name": "scipaper"
  },
  "language_info": {
   "codemirror_mode": {
    "name": "ipython",
    "version": 3
   },
   "file_extension": ".py",
   "mimetype": "text/x-python",
   "name": "python",
   "nbconvert_exporter": "python",
   "pygments_lexer": "ipython3",
   "version": "3.12.1"
  }
 },
 "nbformat": 4,
 "nbformat_minor": 4
}
