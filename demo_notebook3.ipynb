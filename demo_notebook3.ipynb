{
 "cells": [
  {
   "cell_type": "code",
   "execution_count": null,
   "metadata": {},
   "outputs": [
    {
     "name": "stdout",
     "output_type": "stream",
     "text": [
      "Supplementary doc -- skip\n",
      "Supplementary doc -- skip\n",
      "Supplementary doc -- skip\n",
      "Supplementary doc -- skip\n",
      "Supplementary doc -- skip\n"
     ]
    }
   ],
   "source": [
    "from scipaper_classifier import analyze_papers\n",
    "\n",
    "\n",
    "dir = 'papers_full/'\n",
    "total_counter,tot,skipped = analyze_papers(dir)\n",
    "\n",
    "print(total_counter)\n",
    "print(\"Counted papers\", tot)\n",
    "print(\"Skipped papers\", skipped)"
   ]
  },
  {
   "cell_type": "code",
   "execution_count": null,
   "metadata": {},
   "outputs": [],
   "source": [
    "total_counter"
   ]
  },
  {
   "cell_type": "markdown",
   "metadata": {},
   "source": [
    "## PLOT RESULTS"
   ]
  },
  {
   "cell_type": "markdown",
   "metadata": {},
   "source": [
    "### Focus on Animals"
   ]
  },
  {
   "cell_type": "code",
   "execution_count": null,
   "metadata": {},
   "outputs": [],
   "source": [
    "import pandas as pd\n",
    "import matplotlib.pyplot as plt\n",
    "\n",
    "animals_df = pd.DataFrame.from_dict(total_counter, orient='index', columns=['count'])\n",
    "animals_df = animals_df.sort_values(by='count', ascending=False)  # sort by count in descending order \n",
    "animals_df.plot(kind=\"barh\", y='count', figsize=(20, 6))  # horizontal bar chart\n",
    "plt.title(\"Animal Count Distribution\")\n",
    "plt.xlabel(\"Count\")\n",
    "plt.ylabel(\"Animal\")\n",
    "plt.grid(axis='x', linestyle='--', alpha=0.6)\n",
    "plt.show()\n"
   ]
  }
 ],
 "metadata": {
  "kernelspec": {
   "display_name": "Python 3 (ipykernel)",
   "language": "python",
   "name": "python3"
  },
  "language_info": {
   "codemirror_mode": {
    "name": "ipython",
    "version": 3
   },
   "file_extension": ".py",
   "mimetype": "text/x-python",
   "name": "python",
   "nbconvert_exporter": "python",
   "pygments_lexer": "ipython3",
   "version": "3.12.1"
  }
 },
 "nbformat": 4,
 "nbformat_minor": 4
}
